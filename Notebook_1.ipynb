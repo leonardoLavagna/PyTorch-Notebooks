{
  "nbformat": 4,
  "nbformat_minor": 0,
  "metadata": {
    "colab": {
      "name": "Notebook_1.ipynb",
      "provenance": [],
      "collapsed_sections": [],
      "authorship_tag": "ABX9TyPaOOHmKQNpjfhD6Oxzrpd+",
      "include_colab_link": true
    },
    "kernelspec": {
      "name": "python3",
      "display_name": "Python 3"
    },
    "language_info": {
      "name": "python"
    },
    "gpuClass": "standard"
  },
  "cells": [
    {
      "cell_type": "markdown",
      "metadata": {
        "id": "view-in-github",
        "colab_type": "text"
      },
      "source": [
        "<a href=\"https://colab.research.google.com/github/leonardoLavagna/PyTorch-Notebooks/blob/main/Notebook_1.ipynb\" target=\"_parent\"><img src=\"https://colab.research.google.com/assets/colab-badge.svg\" alt=\"Open In Colab\"/></a>"
      ]
    },
    {
      "cell_type": "markdown",
      "source": [
        "# PyTorch Fundamentals"
      ],
      "metadata": {
        "id": "kI4asVW14LZQ"
      }
    },
    {
      "cell_type": "markdown",
      "source": [
        "## Setup"
      ],
      "metadata": {
        "id": "rEuFkKPN5u5I"
      }
    },
    {
      "cell_type": "code",
      "source": [
        "# GPU Info (in Google Colab)\n",
        "# !nvidia-smi"
      ],
      "metadata": {
        "id": "qkQQKKYx4QJd"
      },
      "execution_count": 1,
      "outputs": []
    },
    {
      "cell_type": "code",
      "source": [
        "import torch\n",
        "print(torch.__version__)"
      ],
      "metadata": {
        "colab": {
          "base_uri": "https://localhost:8080/"
        },
        "id": "oevjohsa4fhc",
        "outputId": "b9ea55bc-efb8-4738-f3bc-bdbf8a7d3fb6"
      },
      "execution_count": 2,
      "outputs": [
        {
          "output_type": "stream",
          "name": "stdout",
          "text": [
            "1.12.1+cu113\n"
          ]
        }
      ]
    },
    {
      "cell_type": "markdown",
      "source": [
        "## Tensors\n",
        "Tensor are the main buildin blocks of deep learning. In particular tensors are used to represent (numerical) data in PyTorch. There are many types of tensors with different dimensions (e.g. scalars, vectors, matrixes,...) and they are usually created using `torch.tensor()` (see https://pytorch.org/docs/stable/tensors.html)."
      ],
      "metadata": {
        "id": "hQxmUsj35mSW"
      }
    },
    {
      "cell_type": "code",
      "source": [
        "# Create an empty tensor (scalar)\n",
        "# Remark . An empty tensor is usually not initialized.\n",
        "x = torch.empty(1)\n",
        "print(x)\n",
        "# For a scalar tensor x we can get the tensor value with x.item()\n",
        "print(x.item())\n",
        "# default type\n",
        "print(x.dtype)\n",
        "# dimension and shape\n",
        "print(x.ndim)\n",
        "print(x.shape)"
      ],
      "metadata": {
        "colab": {
          "base_uri": "https://localhost:8080/"
        },
        "id": "X8iWdyN65tET",
        "outputId": "8170e5ac-4210-447b-ed38-536478d155f4"
      },
      "execution_count": 3,
      "outputs": [
        {
          "output_type": "stream",
          "name": "stdout",
          "text": [
            "tensor([3.9861e-35])\n",
            "3.98613807783684e-35\n",
            "torch.float32\n",
            "1\n",
            "torch.Size([1])\n"
          ]
        }
      ]
    },
    {
      "cell_type": "code",
      "source": [
        "# Create a specific tensor (scalar) with a different data type\n",
        "x = torch.tensor(1,dtype=torch.int32)\n",
        "print(x)\n",
        "print(x.item())\n",
        "print(x.dtype)"
      ],
      "metadata": {
        "colab": {
          "base_uri": "https://localhost:8080/"
        },
        "id": "uks1A6Xs6cOm",
        "outputId": "01edd84c-dd08-4aab-99f2-777adc1b6ff0"
      },
      "execution_count": 4,
      "outputs": [
        {
          "output_type": "stream",
          "name": "stdout",
          "text": [
            "tensor(1, dtype=torch.int32)\n",
            "1\n",
            "torch.int32\n"
          ]
        }
      ]
    },
    {
      "cell_type": "markdown",
      "source": [
        "**Remark .** The default datatype of a tensor is `float32`. This can be changed in many other data types: `int32, float16, complex 64`... see https://pytorch.org/docs/stable/tensors.html for all the data types available. "
      ],
      "metadata": {
        "id": "YqdRChxlEYbH"
      }
    },
    {
      "cell_type": "code",
      "source": [
        "# Create a vector with all zeros\n",
        "x = torch.zeros(2)\n",
        "print(x)\n",
        "print(x.ndim)\n",
        "print(x.shape)"
      ],
      "metadata": {
        "colab": {
          "base_uri": "https://localhost:8080/"
        },
        "id": "NwywuXc_7VLE",
        "outputId": "224c44e8-9745-43ee-c035-c22858e902b6"
      },
      "execution_count": 5,
      "outputs": [
        {
          "output_type": "stream",
          "name": "stdout",
          "text": [
            "tensor([0., 0.])\n",
            "1\n",
            "torch.Size([2])\n"
          ]
        }
      ]
    },
    {
      "cell_type": "code",
      "source": [
        "# Create a 2x2 matrix with all ones\n",
        "x = torch.ones(2,2)\n",
        "print(x)\n",
        "print(x.ndim)\n",
        "print(x.shape)"
      ],
      "metadata": {
        "colab": {
          "base_uri": "https://localhost:8080/"
        },
        "id": "SG8sifWZ9Zfi",
        "outputId": "0907a1bc-973c-446d-f726-0b8fa08dfa33"
      },
      "execution_count": 6,
      "outputs": [
        {
          "output_type": "stream",
          "name": "stdout",
          "text": [
            "tensor([[1., 1.],\n",
            "        [1., 1.]])\n",
            "2\n",
            "torch.Size([2, 2])\n"
          ]
        }
      ]
    },
    {
      "cell_type": "code",
      "source": [
        "# Access elements\n",
        "print(x[1])\n",
        "print(x[1][1])"
      ],
      "metadata": {
        "colab": {
          "base_uri": "https://localhost:8080/"
        },
        "id": "8jWlwBNB9n1x",
        "outputId": "c89cd53b-9e34-499e-f013-d68cd42a1558"
      },
      "execution_count": 7,
      "outputs": [
        {
          "output_type": "stream",
          "name": "stdout",
          "text": [
            "tensor([1., 1.])\n",
            "tensor(1.)\n"
          ]
        }
      ]
    },
    {
      "cell_type": "code",
      "source": [
        "# Create a tensor (1 tensor 2x3)\n",
        "x = torch.tensor([[[1,2,3],[4,5,6]]])\n",
        "print(x)\n",
        "print(x.ndim)\n",
        "print(x.shape)"
      ],
      "metadata": {
        "colab": {
          "base_uri": "https://localhost:8080/"
        },
        "id": "ZKvYPUVM91bs",
        "outputId": "e526189b-e137-43a6-f6cc-811508705163"
      },
      "execution_count": 8,
      "outputs": [
        {
          "output_type": "stream",
          "name": "stdout",
          "text": [
            "tensor([[[1, 2, 3],\n",
            "         [4, 5, 6]]])\n",
            "3\n",
            "torch.Size([1, 2, 3])\n"
          ]
        }
      ]
    },
    {
      "cell_type": "code",
      "source": [
        "# Create a random tensor\n",
        "# Random seed (for this block)\n",
        "random_seed = 1234\n",
        "torch.manual_seed(random_seed)\n",
        "# Random tensor\n",
        "x = torch.rand(1,2,3,3)\n",
        "print(x)\n",
        "print(x.ndim)\n",
        "print(x.shape)"
      ],
      "metadata": {
        "colab": {
          "base_uri": "https://localhost:8080/"
        },
        "id": "x8HvP0pa-KWZ",
        "outputId": "fb12ce17-2d46-43da-fcb3-66ed5a6d9291"
      },
      "execution_count": 9,
      "outputs": [
        {
          "output_type": "stream",
          "name": "stdout",
          "text": [
            "tensor([[[[0.0290, 0.4019, 0.2598],\n",
            "          [0.3666, 0.0583, 0.7006],\n",
            "          [0.0518, 0.4681, 0.6738]],\n",
            "\n",
            "         [[0.3315, 0.7837, 0.5631],\n",
            "          [0.7749, 0.8208, 0.2793],\n",
            "          [0.6817, 0.2837, 0.6567]]]])\n",
            "4\n",
            "torch.Size([1, 2, 3, 3])\n"
          ]
        }
      ]
    },
    {
      "cell_type": "code",
      "source": [
        "# Access elements\n",
        "print(x[0])\n",
        "print(x[0][0])\n",
        "print(x[0][0][0])\n",
        "print(x[0][0][0][0])"
      ],
      "metadata": {
        "colab": {
          "base_uri": "https://localhost:8080/"
        },
        "id": "pjQjFUsv-2rL",
        "outputId": "6c7661d2-1a1c-4aad-ee9d-26f780199ede"
      },
      "execution_count": 10,
      "outputs": [
        {
          "output_type": "stream",
          "name": "stdout",
          "text": [
            "tensor([[[0.0290, 0.4019, 0.2598],\n",
            "         [0.3666, 0.0583, 0.7006],\n",
            "         [0.0518, 0.4681, 0.6738]],\n",
            "\n",
            "        [[0.3315, 0.7837, 0.5631],\n",
            "         [0.7749, 0.8208, 0.2793],\n",
            "         [0.6817, 0.2837, 0.6567]]])\n",
            "tensor([[0.0290, 0.4019, 0.2598],\n",
            "        [0.3666, 0.0583, 0.7006],\n",
            "        [0.0518, 0.4681, 0.6738]])\n",
            "tensor([0.0290, 0.4019, 0.2598])\n",
            "tensor(0.0290)\n"
          ]
        }
      ]
    },
    {
      "cell_type": "markdown",
      "source": [
        "**Remark .** In many neural networks random tensors are very important because they often learn by strating with a random tensor and updating it adjusting the values to better represent or fit the data."
      ],
      "metadata": {
        "id": "BpAb_7v1_dsS"
      }
    },
    {
      "cell_type": "code",
      "source": [
        "# Create a tensor-range (default start=0, end=length-1, step=1)\n",
        "range = torch.arange(start=0,end=10,step=2)\n",
        "print(range)"
      ],
      "metadata": {
        "colab": {
          "base_uri": "https://localhost:8080/"
        },
        "id": "6_4Q2Z0iDL51",
        "outputId": "ff7c12d0-8a38-4401-cf52-864faa157ed1"
      },
      "execution_count": 11,
      "outputs": [
        {
          "output_type": "stream",
          "name": "stdout",
          "text": [
            "tensor([0, 2, 4, 6, 8])\n"
          ]
        }
      ]
    },
    {
      "cell_type": "code",
      "source": [
        "# Creating tensors like the previous one but with all zeros\n",
        "tensor_like = torch.zeros_like(input=range)\n",
        "print(tensor_like)"
      ],
      "metadata": {
        "colab": {
          "base_uri": "https://localhost:8080/"
        },
        "id": "pqgKjx41Dwzb",
        "outputId": "41b4fda4-59d0-46c2-d60e-edabe01a9ffb"
      },
      "execution_count": 12,
      "outputs": [
        {
          "output_type": "stream",
          "name": "stdout",
          "text": [
            "tensor([0, 0, 0, 0, 0])\n"
          ]
        }
      ]
    },
    {
      "cell_type": "markdown",
      "source": [
        "## Slicing and reshaping\n",
        "Slicing is very similar to the same operation with python arrays, and reshaping can be done with the function `torch.tensor.view()`, see https://pytorch.org/docs/stable/generated/torch.Tensor.view.html."
      ],
      "metadata": {
        "id": "ekP6mwS7LGzX"
      }
    },
    {
      "cell_type": "code",
      "source": [
        "# Slicing\n",
        "x = torch.rand(4,4)\n",
        "print(x)\n",
        "print(x[:,0])\n",
        "print(x[0,0])\n",
        "print(x[1,1].item())"
      ],
      "metadata": {
        "colab": {
          "base_uri": "https://localhost:8080/"
        },
        "id": "yzQjTtLHLJi4",
        "outputId": "d855ed79-96fe-496e-8dc6-1fd603e21dfe"
      },
      "execution_count": 13,
      "outputs": [
        {
          "output_type": "stream",
          "name": "stdout",
          "text": [
            "tensor([[0.2388, 0.7313, 0.6012, 0.3043],\n",
            "        [0.2548, 0.6294, 0.9665, 0.7399],\n",
            "        [0.4517, 0.4757, 0.7842, 0.1525],\n",
            "        [0.6662, 0.3343, 0.7893, 0.3216]])\n",
            "tensor([0.2388, 0.2548, 0.4517, 0.6662])\n",
            "tensor(0.2388)\n",
            "0.6293618679046631\n"
          ]
        }
      ]
    },
    {
      "cell_type": "code",
      "source": [
        "# Reshaping\n",
        "print(x.size())\n",
        "\n",
        "y = x.view(16)\n",
        "print(y)\n",
        "print(y.size())\n",
        "\n",
        "y = x.view(-1,8)\n",
        "print(y)\n",
        "print(y.size())"
      ],
      "metadata": {
        "colab": {
          "base_uri": "https://localhost:8080/"
        },
        "id": "k4Zm57CRLan1",
        "outputId": "5875ea5d-ab4b-46cb-b36c-118437799b49"
      },
      "execution_count": 14,
      "outputs": [
        {
          "output_type": "stream",
          "name": "stdout",
          "text": [
            "torch.Size([4, 4])\n",
            "tensor([0.2388, 0.7313, 0.6012, 0.3043, 0.2548, 0.6294, 0.9665, 0.7399, 0.4517,\n",
            "        0.4757, 0.7842, 0.1525, 0.6662, 0.3343, 0.7893, 0.3216])\n",
            "torch.Size([16])\n",
            "tensor([[0.2388, 0.7313, 0.6012, 0.3043, 0.2548, 0.6294, 0.9665, 0.7399],\n",
            "        [0.4517, 0.4757, 0.7842, 0.1525, 0.6662, 0.3343, 0.7893, 0.3216]])\n",
            "torch.Size([2, 8])\n"
          ]
        }
      ]
    },
    {
      "cell_type": "markdown",
      "source": [
        "## Aritmetic operations with tensors\n",
        "Aritmetic operations between tensors are very similar to aritmetic operations with arrays (e.g. in `numpy`)"
      ],
      "metadata": {
        "id": "CFuXC4IoAiiA"
      }
    },
    {
      "cell_type": "code",
      "source": [
        "# Elementwise addition of tensors with the same size\n",
        "a = torch.rand(2,2)\n",
        "b = torch.rand(2,2)\n",
        "c = a+b\n",
        "print(a)\n",
        "print(b)\n",
        "print(c)"
      ],
      "metadata": {
        "colab": {
          "base_uri": "https://localhost:8080/"
        },
        "id": "ytfA5fuLAkwV",
        "outputId": "53284ff1-a6ee-413a-f103-1069cd439f34"
      },
      "execution_count": 15,
      "outputs": [
        {
          "output_type": "stream",
          "name": "stdout",
          "text": [
            "tensor([[0.5247, 0.6688],\n",
            "        [0.8436, 0.4265]])\n",
            "tensor([[0.9561, 0.0770],\n",
            "        [0.4108, 0.0014]])\n",
            "tensor([[1.4809, 0.7458],\n",
            "        [1.2544, 0.4279]])\n"
          ]
        }
      ]
    },
    {
      "cell_type": "code",
      "source": [
        "# same as before\n",
        "print(torch.add(a,b))"
      ],
      "metadata": {
        "colab": {
          "base_uri": "https://localhost:8080/"
        },
        "id": "YvGeTaibAwCX",
        "outputId": "af4b56cd-0558-44f4-e951-ecea52fec54b"
      },
      "execution_count": 16,
      "outputs": [
        {
          "output_type": "stream",
          "name": "stdout",
          "text": [
            "tensor([[1.4809, 0.7458],\n",
            "        [1.2544, 0.4279]])\n"
          ]
        }
      ]
    },
    {
      "cell_type": "code",
      "source": [
        "# inplace addition, same as before\n",
        "# all pytorch function with _ at the end are usually inplace operations\n",
        "print(b.add_(a))"
      ],
      "metadata": {
        "colab": {
          "base_uri": "https://localhost:8080/"
        },
        "id": "JTSOWWcgBeaH",
        "outputId": "6d5c5cdf-a669-4660-e10b-41be91177f26"
      },
      "execution_count": 17,
      "outputs": [
        {
          "output_type": "stream",
          "name": "stdout",
          "text": [
            "tensor([[1.4809, 0.7458],\n",
            "        [1.2544, 0.4279]])\n"
          ]
        }
      ]
    },
    {
      "cell_type": "markdown",
      "source": [
        "All the other aritmetic operations are carried out in a similar fashion. In particular we have:\n",
        "\n",
        "\n",
        "*   **elementwise subtraction** `a-b` or `torch.sub(a,b)` or `a.sub_(b)`;\n",
        "*   **elementwise multiplication** `a*b` or `torch.mul(a,b)` or `a.mul_(b)`;\n",
        "*   **elementwise division** ` a / b ` or `torch.div(a,b)` or `a.div_(b)`;\n",
        "*   **elementwise power** ` a**b ` or `torch.pow(a,b)` or `a.pow_(b)`;\n",
        "\n",
        "See https://pytorch.org/docs/stable/torch.html for all the other useful operations."
      ],
      "metadata": {
        "id": "oOxssJYlBko2"
      }
    },
    {
      "cell_type": "markdown",
      "source": [
        "**Remark .** The device where a tensor is saved is of crucial importance as the following code shows."
      ],
      "metadata": {
        "id": "QTXQHdu_G_Ov"
      }
    },
    {
      "cell_type": "code",
      "source": [
        "# Create a tensor \n",
        "x = torch.ones(5)\n",
        "print(x)\n",
        "# Move it in the GPU\n",
        "if torch.cuda.is_available():\n",
        "  device = torch.device(\"cuda\")\n",
        "  x = x.to(device)\n",
        "  print(x)\n",
        "\n",
        "# Move the tensor in the CPU\n",
        "x = x.to(\"cpu\")\n",
        "# Change the tensor in the CPU\n",
        "# Note that x+=1 is the same as x=x+1\n",
        "x += 1\n",
        "print(x)\n",
        "\n",
        "# Also the tensor in the GPU has been changed!\n",
        "if torch.cuda.is_available():\n",
        "  x = x.to(device)\n",
        "  print(x)"
      ],
      "metadata": {
        "colab": {
          "base_uri": "https://localhost:8080/"
        },
        "id": "ponHvQxtHn3M",
        "outputId": "4533c375-f542-4233-cecf-1c479dd5610b"
      },
      "execution_count": 18,
      "outputs": [
        {
          "output_type": "stream",
          "name": "stdout",
          "text": [
            "tensor([1., 1., 1., 1., 1.])\n",
            "tensor([2., 2., 2., 2., 2.])\n"
          ]
        }
      ]
    },
    {
      "cell_type": "markdown",
      "source": [
        "## From Numpy to PyThorch and back\n",
        "Many operations between tensors (e.g. matrix multiplications) are particularly easy to carry out with `numpy`, see https://numpy.org. To convert a tensor to a numpy array, and vicerversa, we can use the following code. "
      ],
      "metadata": {
        "id": "w2hb3HekKIRS"
      }
    },
    {
      "cell_type": "code",
      "source": [
        "import numpy as np"
      ],
      "metadata": {
        "id": "WFY1WjBbKicT"
      },
      "execution_count": 19,
      "outputs": []
    },
    {
      "cell_type": "code",
      "source": [
        "a = torch.ones(5)\n",
        "print(a)"
      ],
      "metadata": {
        "colab": {
          "base_uri": "https://localhost:8080/"
        },
        "id": "gBQKgMR5KlkK",
        "outputId": "300fd61c-77ab-4245-ef2f-2b76bad5af4c"
      },
      "execution_count": 20,
      "outputs": [
        {
          "output_type": "stream",
          "name": "stdout",
          "text": [
            "tensor([1., 1., 1., 1., 1.])\n"
          ]
        }
      ]
    },
    {
      "cell_type": "code",
      "source": [
        "# From PyThorch to Numpy\n",
        "b = a.numpy()\n",
        "print(b)\n",
        "print(type(b))"
      ],
      "metadata": {
        "colab": {
          "base_uri": "https://localhost:8080/"
        },
        "id": "NcxD0LSUKqGU",
        "outputId": "62456838-caaf-4afd-da09-9196f31de0b7"
      },
      "execution_count": 21,
      "outputs": [
        {
          "output_type": "stream",
          "name": "stdout",
          "text": [
            "[1. 1. 1. 1. 1.]\n",
            "<class 'numpy.ndarray'>\n"
          ]
        }
      ]
    },
    {
      "cell_type": "code",
      "source": [
        "# From Numpy to PyThorch\n",
        "a = np.ones(5)\n",
        "b = torch.from_numpy(a)\n",
        "print(b)"
      ],
      "metadata": {
        "colab": {
          "base_uri": "https://localhost:8080/"
        },
        "id": "R_bzruukKtCu",
        "outputId": "be7d7f8f-bff8-48e4-d1bb-9f308a4f8840"
      },
      "execution_count": 22,
      "outputs": [
        {
          "output_type": "stream",
          "name": "stdout",
          "text": [
            "tensor([1., 1., 1., 1., 1.], dtype=torch.float64)\n"
          ]
        }
      ]
    },
    {
      "cell_type": "markdown",
      "source": [
        "**Remark .** At the time of writing `numpy` works only with CPUs. "
      ],
      "metadata": {
        "id": "wDeBLLGUK0Xc"
      }
    },
    {
      "cell_type": "markdown",
      "source": [
        "## Exercises\n",
        "\n",
        "\n",
        "1.   Create a random tensor `a` with shape (4,4) and perform a matrix multiplication with another random tensor `b` with shape (1, 4) (hint: you may have to transpose the second tensor).\n",
        "2.   Find the maximum and minimum values of the output of the matrix multiplication of `a` and `b` created in the previous exercise.\n",
        "3.   Speaking of random seeds, we saw how to set it with torch.manual_seed() but is there a GPU equivalent? (hint: look into the documentation for `torch.cuda` for this one). \n",
        "\n"
      ],
      "metadata": {
        "id": "MB7V_n0XO4iq"
      }
    }
  ]
}