{
  "nbformat": 4,
  "nbformat_minor": 0,
  "metadata": {
    "colab": {
      "name": "Notebook_2.ipynb",
      "provenance": [],
      "authorship_tag": "ABX9TyMyhOeX1QlFMxdn2rbgd63P",
      "include_colab_link": true
    },
    "kernelspec": {
      "name": "python3",
      "display_name": "Python 3"
    },
    "language_info": {
      "name": "python"
    }
  },
  "cells": [
    {
      "cell_type": "markdown",
      "metadata": {
        "id": "view-in-github",
        "colab_type": "text"
      },
      "source": [
        "<a href=\"https://colab.research.google.com/github/leonardoLavagna/PyTorch-Notebooks/blob/main/Notebook_2.ipynb\" target=\"_parent\"><img src=\"https://colab.research.google.com/assets/colab-badge.svg\" alt=\"Open In Colab\"/></a>"
      ]
    },
    {
      "cell_type": "markdown",
      "source": [
        "# PyTorch Notebook 2\n",
        "## Gradients, Optimizers and Loss Functions\n",
        "In this notebook we will introduce three fundamental concepts: gradients, optimizers and loss functions in Pytorch. "
      ],
      "metadata": {
        "id": "Ytlj2kmvh0hu"
      }
    },
    {
      "cell_type": "markdown",
      "source": [
        "## Gradients"
      ],
      "metadata": {
        "id": "bzXurH8OilGB"
      }
    },
    {
      "cell_type": "code",
      "execution_count": 1,
      "metadata": {
        "id": "-HbbwNttfIvT"
      },
      "outputs": [],
      "source": [
        "import torch"
      ]
    },
    {
      "cell_type": "markdown",
      "source": [
        "We start by creating a random tensor, with the fundamental parameter `requires_grad` set to `True`, see: https://pytorch.org/docs/stable/generated/torch.Tensor.requires_grad.html. The main reason to specify this parameter has to do with how PyTorch calculates the gradients. In particular with this parameter se to `True` PyTorch will create a function that will be used in the back-propagation.\n",
        "\n",
        "Recall that by the chain rule, if we have $z=f(g(x))$ with $y=g(x)$, then the gradient (derivative) is calculated \"backwards\" since $z'=f'(g(x))g'(x)$. In practice we have $x\\to y=f(x)\\to z=g(y)$ for the \"forward pass\" and $\\frac{dz}{dy}\\to \\frac{dz}{dy}\\frac{dy}{dx}\\to z'$ for the \"backward pass\". "
      ],
      "metadata": {
        "id": "YfoZ6Xe0itlw"
      }
    },
    {
      "cell_type": "code",
      "source": [
        "x = torch.randn(3, requires_grad=True)\n",
        "print(x)"
      ],
      "metadata": {
        "colab": {
          "base_uri": "https://localhost:8080/"
        },
        "id": "Zcp-D0CUisDk",
        "outputId": "10a48e82-b603-4047-e17b-9569f8f8ba37"
      },
      "execution_count": 2,
      "outputs": [
        {
          "output_type": "stream",
          "name": "stdout",
          "text": [
            "tensor([-0.4491, -0.0873, -0.0493], requires_grad=True)\n"
          ]
        }
      ]
    },
    {
      "cell_type": "markdown",
      "source": [
        "For example if we compute $y = 2x$ we see that the function `MulBackward` as been created and stored (`MulBackward` is for multiplication, if we compute $y=x+2$ an `AddBackward` function will be created, and so on...)."
      ],
      "metadata": {
        "id": "GlSyB190i-5H"
      }
    },
    {
      "cell_type": "code",
      "source": [
        "# y = f(x) with f : x --> 2x\n",
        "# z = g(y) with g : y --> y+1\n",
        "y = 2*x\n",
        "z = y+1\n",
        "print(y)\n",
        "print(z)"
      ],
      "metadata": {
        "colab": {
          "base_uri": "https://localhost:8080/"
        },
        "id": "Tyr52kcIkDCh",
        "outputId": "da193586-a5d7-41b6-cc14-bab63013416b"
      },
      "execution_count": 3,
      "outputs": [
        {
          "output_type": "stream",
          "name": "stdout",
          "text": [
            "tensor([-0.8983, -0.1746, -0.0985], grad_fn=<MulBackward0>)\n",
            "tensor([0.1017, 0.8254, 0.9015], grad_fn=<AddBackward0>)\n"
          ]
        }
      ]
    },
    {
      "cell_type": "code",
      "source": [
        "# Example of gradient calculation\n",
        "# Note : we need to operate with scalars\n",
        "w = z.mean()\n",
        "print(f\"tensor w={w} with dimension {w.ndim}\")\n",
        "w.backward()\n",
        "gradient = x.grad\n",
        "print(f\"Gradient of w: {gradient}\") "
      ],
      "metadata": {
        "colab": {
          "base_uri": "https://localhost:8080/"
        },
        "id": "Frokzs-CkIDt",
        "outputId": "9053a236-7f24-451c-e3f1-fbf2cafb4d62"
      },
      "execution_count": 4,
      "outputs": [
        {
          "output_type": "stream",
          "name": "stdout",
          "text": [
            "tensor w=0.6095460653305054 with dimension 0\n",
            "Gradient of w: tensor([0.6667, 0.6667, 0.6667])\n"
          ]
        }
      ]
    },
    {
      "cell_type": "markdown",
      "source": [
        "**Reamrk .** It can happen that a mistake is made in the gradient calculation, say for example one writes by mistake `x.grad()` instead of `x.grad`. In this case if in the back-propagation process some values have been already stored, then a runtime error can occur. In this case it should suffice to restart the kernel, correct the mistake, and run again the cells. Another option can be to do not keep track of history (see below)."
      ],
      "metadata": {
        "id": "k3VXeT1BqF3Y"
      }
    },
    {
      "cell_type": "code",
      "source": [
        "# do not keep track of history\n",
        "# 1) x.requires_grad_(False)\n",
        "# 2) x.detach()\n",
        "# 3) with torch.no_grad()\n",
        "# e.g.\n",
        "x.requires_grad_(False)"
      ],
      "metadata": {
        "colab": {
          "base_uri": "https://localhost:8080/"
        },
        "id": "Nkr5q1_cpxxX",
        "outputId": "163e535e-d3e2-4a6b-cafc-b2d202205087"
      },
      "execution_count": 5,
      "outputs": [
        {
          "output_type": "execute_result",
          "data": {
            "text/plain": [
              "tensor([-0.4491, -0.0873, -0.0493])"
            ]
          },
          "metadata": {},
          "execution_count": 5
        }
      ]
    },
    {
      "cell_type": "markdown",
      "source": [
        "## Loss functions and Optimizers\n",
        "Graidents play a central role in defining Machine Learning/Deep Learning models, in particulare when dealing with:\n",
        "\n",
        "\n",
        "*   Loss functions (minimization of the loss), see https://towardsdatascience.com/common-loss-functions-in-machine-learning-46af0ffc4d23\n",
        "*   Optimizers, see: https://towardsdatascience.com/optimizers-for-training-neural-network-59450d71caf6\n",
        "\n",
        "We will not discuss in detail these concepts, but we will frequently use them in this series of notebooks. "
      ],
      "metadata": {
        "id": "LthRJZYvwxsR"
      }
    },
    {
      "cell_type": "markdown",
      "source": [
        "## A dummy model\n",
        "Let's see an important application of the concepts we've seen in practice. We will implement a dummy model in two different ways: manually using `numpy` and automatically using PyTorch. Here we see a classic Macine Learning/Deep Learning pipeline: \n",
        "\n",
        "\n",
        "1.   Get the data;\n",
        "2.   Define the model and choose an optimizer and a loss function;\n",
        "3.   Fit the data to the model and make inference, in particular:\n",
        "     *   Create a training loop;\n",
        "     *   Create a testing loop if necessary.\n",
        "\n",
        "Our dummy model consists of a simple vector $X$, a function $Y=f(X)=2X$ and we want to predict the value $f(5)$ without computing $y=2\\cdot 5=10$. "
      ],
      "metadata": {
        "id": "KNRXgCV_ravY"
      }
    },
    {
      "cell_type": "code",
      "source": [
        "import numpy as np\n",
        "\n",
        "# Get the data\n",
        "X = np.array([1,2,3,4])\n",
        "# Y = 2*X\n",
        "Y = np.array([2,4,6,8]) \n",
        "# weights\n",
        "W = 0.0"
      ],
      "metadata": {
        "id": "dbF7OQWKq-mO"
      },
      "execution_count": 6,
      "outputs": []
    },
    {
      "cell_type": "code",
      "source": [
        "# Model definition\n",
        "def forward(x):\n",
        "    return W*x\n",
        "# loss function\n",
        "def loss(y,y_predicted):\n",
        "    return((y_predicted-y)**2).mean()\n",
        "# optimizer (gradient descent)\n",
        "# MSE = 1/N * (w*x-y)^2\n",
        "# MSE derivative = 1/N*2x(w*x-y)\n",
        "def gradient(x,y,y_predicted):\n",
        "    return np.dot(2*x,y_predicted-y).mean()\n",
        "\n",
        "print(f\"Prediction before training f(5)= {forward(5)}\")"
      ],
      "metadata": {
        "colab": {
          "base_uri": "https://localhost:8080/"
        },
        "id": "VYxkFFADuCFN",
        "outputId": "39d7dca9-5e7f-4916-ad04-3bc0467a1de5"
      },
      "execution_count": 7,
      "outputs": [
        {
          "output_type": "stream",
          "name": "stdout",
          "text": [
            "Prediction before training f(5)= 0.0\n"
          ]
        }
      ]
    },
    {
      "cell_type": "code",
      "source": [
        "# Training loop\n",
        "# learning rate\n",
        "lr = 0.01\n",
        "# number of epochs\n",
        "n_iters = 10\n",
        "for epoch in range(n_iters):\n",
        "    # prediction\n",
        "    y_pred = forward(X)\n",
        "    # loss\n",
        "    l = loss(Y,y_pred)\n",
        "    # optimizer\n",
        "    dw = gradient(X,Y,y_pred)\n",
        "    # update\n",
        "    W -= lr*dw\n",
        "\n",
        "    # Print what's happening every epoch\n",
        "    if epoch % 1 == 0:\n",
        "        print(f\"epoch {epoch+1}: w = {w}, loss = {l}\")"
      ],
      "metadata": {
        "colab": {
          "base_uri": "https://localhost:8080/"
        },
        "id": "VQ6uCYYeuXPk",
        "outputId": "9d490ab0-cb94-4ee5-8675-e48537534c22"
      },
      "execution_count": 8,
      "outputs": [
        {
          "output_type": "stream",
          "name": "stdout",
          "text": [
            "epoch 1: w = 0.6095460653305054, loss = 30.0\n",
            "epoch 2: w = 0.6095460653305054, loss = 4.800000000000001\n",
            "epoch 3: w = 0.6095460653305054, loss = 0.7680000000000002\n",
            "epoch 4: w = 0.6095460653305054, loss = 0.12288000000000023\n",
            "epoch 5: w = 0.6095460653305054, loss = 0.019660800000000138\n",
            "epoch 6: w = 0.6095460653305054, loss = 0.0031457280000000165\n",
            "epoch 7: w = 0.6095460653305054, loss = 0.0005033164799999944\n",
            "epoch 8: w = 0.6095460653305054, loss = 8.053063680000391e-05\n",
            "epoch 9: w = 0.6095460653305054, loss = 1.2884901887999318e-05\n",
            "epoch 10: w = 0.6095460653305054, loss = 2.061584302080135e-06\n"
          ]
        }
      ]
    },
    {
      "cell_type": "code",
      "source": [
        "print(f\"prediction after training f(5)={forward(5)}\")"
      ],
      "metadata": {
        "colab": {
          "base_uri": "https://localhost:8080/"
        },
        "id": "P5zzHZauvn4E",
        "outputId": "0cb7719d-db8e-4053-a300-ee384c37b3d8"
      },
      "execution_count": 9,
      "outputs": [
        {
          "output_type": "stream",
          "name": "stdout",
          "text": [
            "prediction after training f(5)=9.998951424\n"
          ]
        }
      ]
    },
    {
      "cell_type": "code",
      "source": [
        "# Same as before, but automatically with PyTorch\n",
        "# To carry out the model the following module is needed\n",
        "import torch.nn as nn\n",
        "\n",
        "# Data\n",
        "X = torch.tensor([[1],[2],[3],[4]], dtype=torch.float32)\n",
        "Y = torch.tensor([[2],[4],[6],[8]], dtype=torch.float32)\n",
        "\n",
        "# Model\n",
        "X_test = torch.tensor([5], dtype=torch.float32)\n",
        "samples , features = X.shape\n",
        "print(samples, features)\n",
        "\n",
        "input_size = features\n",
        "output_size = features\n",
        "model = nn.Linear(input_size, output_size)\n",
        "\n",
        "# Loss and optimizer (Stochastic Gradient Descent)\n",
        "loss = nn.MSELoss()\n",
        "optimizer = torch.optim.SGD(model.parameters(), lr = 0.01)\n",
        "\n",
        "print(f\"Prediction before training f(5)= {model(X_test).item()}\")\n",
        "\n",
        "# Training\n",
        "lr = 0.01\n",
        "n_iters = 10\n",
        "for epoch in range(n_iters):\n",
        "    # Prediction\n",
        "    y_pred = model(X)\n",
        "    # Loss\n",
        "    l = loss(Y,y_pred)\n",
        "    # gradients\n",
        "    l.backward() \n",
        "    # Update\n",
        "    optimizer.step()\n",
        "    optimizer.zero_grad()\n",
        "    if epoch % 1 == 0:\n",
        "        [w,b] = model.parameters()\n",
        "        print(f\"epoch {epoch+1}: w = {w[0][0].item()}, loss = {l}\")\n",
        "  \n",
        "print(f\"Prediction before training f(5)= {model(X_test).item()}\")"
      ],
      "metadata": {
        "colab": {
          "base_uri": "https://localhost:8080/"
        },
        "id": "PnIQ7fmhvt0J",
        "outputId": "23bbe7ad-7b20-419a-c9b1-4c2824256378"
      },
      "execution_count": 10,
      "outputs": [
        {
          "output_type": "stream",
          "name": "stdout",
          "text": [
            "4 1\n",
            "Prediction before training f(5)= 0.453784704208374\n",
            "epoch 1: w = 0.28903692960739136, loss = 25.857940673828125\n",
            "epoch 2: w = 0.5210843086242676, loss = 17.98900032043457\n",
            "epoch 3: w = 0.714539110660553, loss = 12.528627395629883\n",
            "epoch 4: w = 0.8758460879325867, loss = 8.73951530456543\n",
            "epoch 5: w = 1.010373592376709, loss = 6.11005163192749\n",
            "epoch 6: w = 1.1225935220718384, loss = 4.28524923324585\n",
            "epoch 7: w = 1.216230869293213, loss = 3.0187840461730957\n",
            "epoch 8: w = 1.2943885326385498, loss = 2.139739513397217\n",
            "epoch 9: w = 1.3596513271331787, loss = 1.5295201539993286\n",
            "epoch 10: w = 1.4141722917556763, loss = 1.105833649635315\n",
            "Prediction before training f(5)= 7.91689395904541\n"
          ]
        }
      ]
    },
    {
      "cell_type": "markdown",
      "source": [
        "## Exercises\n",
        "\n",
        "\n",
        "1.   Create some data points using the following code."
      ],
      "metadata": {
        "id": "XWHF3mpsykjy"
      }
    },
    {
      "cell_type": "code",
      "source": [
        "from sklearn import datasets\n",
        "X_np, y_np = datasets.make_regression(n_samples=100, n_features=1, noise=20, random_state=1)"
      ],
      "metadata": {
        "id": "pHwFn3Ory2XW"
      },
      "execution_count": 11,
      "outputs": []
    },
    {
      "cell_type": "markdown",
      "source": [
        "2.   Convert `X_np` and `y_np` to tensors `X` and `y` with data type `float32` , and then create two variables `n_samples` and `n_features` with the dimensions of `X`."
      ],
      "metadata": {
        "id": "viF2lUIIy7hf"
      }
    },
    {
      "cell_type": "code",
      "source": [
        "# Solution of 2.\n",
        "X_np, y_np = datasets.make_regression(n_samples=100, n_features=1, noise=20, random_state=1)\n",
        "X = torch.from_numpy(X_np.astype(np.float32))\n",
        "y = torch.from_numpy(y_np.astype(np.float32))\n",
        "y = y.view(y.shape[0],1)\n",
        "\n",
        "n_samples, n_features = X.shape"
      ],
      "metadata": {
        "id": "Tvj3_sPLy6Qe"
      },
      "execution_count": 12,
      "outputs": []
    },
    {
      "cell_type": "markdown",
      "source": [
        "3.    Design a linear model (input, output size, foreward method) for the data. Then choose a suitable loss function, a suitable optimizer and a learning rate."
      ],
      "metadata": {
        "id": "BOSL-Jtp0kcs"
      }
    },
    {
      "cell_type": "code",
      "source": [
        "# Solution of 3.\n",
        "input_size = n_features\n",
        "output_size = 1\n",
        "model = nn.Linear(input_size, output_size)\n",
        "criterion = nn.MSELoss()\n",
        "lr = 0.01\n",
        "optimizer = torch.optim.SGD(model.parameters(), lr =lr)"
      ],
      "metadata": {
        "id": "mwZNjFdY0UjH"
      },
      "execution_count": 13,
      "outputs": []
    },
    {
      "cell_type": "markdown",
      "source": [
        "4.    Define a training loop (forward pass, backward pass, update) and plot the results."
      ],
      "metadata": {
        "id": "G4-JYt6G0_zu"
      }
    },
    {
      "cell_type": "code",
      "source": [
        "# Solution of 4.\n",
        "import matplotlib.pyplot as plt\n",
        "\n",
        "n_epochs = 100\n",
        "for epoch in range(n_epochs):\n",
        "    # forward pass and loss\n",
        "    y_predicted = model(X)\n",
        "    loss = criterion(y_predicted, y)\n",
        "    \n",
        "    # backward pass\n",
        "    loss.backward()\n",
        "    \n",
        "    # update\n",
        "    optimizer.step()\n",
        "    \n",
        "    # reset at each iteration\n",
        "    optimizer.zero_grad()\n",
        "    \n",
        "    # print\n",
        "    #if (epoch+1) % 10 == 0:\n",
        "        #print(f\"epoch = {epoch+1}, loss = {loss.item()}\")\n",
        "\n",
        "# plot\n",
        "predicted = model(X).detach().numpy()\n",
        "plt.plot(X_np, y_np, \"ro\")\n",
        "plt.plot(X_np, predicted, \"b\")\n",
        "plt.show()"
      ],
      "metadata": {
        "colab": {
          "base_uri": "https://localhost:8080/",
          "height": 265
        },
        "id": "gPp7Tv4o04p6",
        "outputId": "d4f5ea44-b5ea-4e7b-9d46-6cf3074da22e"
      },
      "execution_count": 14,
      "outputs": [
        {
          "output_type": "display_data",
          "data": {
            "text/plain": [
              "<Figure size 432x288 with 1 Axes>"
            ],
            "image/png": "[encoded data removed]"
          },
          "metadata": {
            "needs_background": "light"
          }
        }
      ]
    },
    {
      "cell_type": "markdown",
      "source": [
        "5.   What is the difference between the technique developed in the previous points and the well known linear regression?"
      ],
      "metadata": {
        "id": "bwk9MMYh1mSr"
      }
    }
  ]
}