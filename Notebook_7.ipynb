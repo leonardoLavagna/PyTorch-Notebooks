{
  "nbformat": 4,
  "nbformat_minor": 0,
  "metadata": {
    "colab": {
      "name": "Notebook_7.ipynb",
      "provenance": [],
      "authorship_tag": "ABX9TyOLtCJ1Qi94TClJnq+lvcTh",
      "include_colab_link": true
    },
    "kernelspec": {
      "name": "python3",
      "display_name": "Python 3"
    },
    "language_info": {
      "name": "python"
    }
  },
  "cells": [
    {
      "cell_type": "markdown",
      "metadata": {
        "id": "view-in-github",
        "colab_type": "text"
      },
      "source": [
        "<a href=\"https://colab.research.google.com/github/leonardoLavagna/PyTorch-Notebooks/blob/main/Notebook_7.ipynb\" target=\"_parent\"><img src=\"https://colab.research.google.com/assets/colab-badge.svg\" alt=\"Open In Colab\"/></a>"
      ]
    },
    {
      "cell_type": "markdown",
      "source": [
        "#PyTorch Notebook 7\n",
        "## Recurrent Neural Networks and Name Classification"
      ],
      "metadata": {
        "id": "mf4308b5e27m"
      }
    },
    {
      "cell_type": "code",
      "source": [
        "# Standard imports\n",
        "import torch\n",
        "import torch.nn as nn \n",
        "import matplotlib.pyplot as plt "
      ],
      "metadata": {
        "id": "PHKynTDafP_M"
      },
      "execution_count": 1,
      "outputs": []
    },
    {
      "cell_type": "code",
      "source": [
        "# Important: the python file utils.py needs uploaded when working with Google Colab\n",
        "# or the file utiles.py should be in the same directory of this notebook when working locally\n",
        "from utils import ALL_LETTERS, N_LETTERS\n",
        "from utils import load_data, letter_to_tensor, line_to_tensor, random_training_example"
      ],
      "metadata": {
        "id": "nBH-NcnJfWSE"
      },
      "execution_count": 2,
      "outputs": []
    },
    {
      "cell_type": "code",
      "execution_count": 3,
      "metadata": {
        "id": "9AZ8niUkdBv7"
      },
      "outputs": [],
      "source": [
        "class RNN(nn.Module):\n",
        "    # implement RNN from scratch rather than using nn.RNN\n",
        "    def __init__(self, input_size, hidden_size, output_size):\n",
        "        super(RNN, self).__init__()\n",
        "        \n",
        "        self.hidden_size = hidden_size\n",
        "        self.i2h = nn.Linear(input_size + hidden_size, hidden_size)\n",
        "        self.i2o = nn.Linear(input_size + hidden_size, output_size)\n",
        "        self.softmax = nn.LogSoftmax(dim=1)\n",
        "        \n",
        "    def forward(self, input_tensor, hidden_tensor):\n",
        "        combined = torch.cat((input_tensor, hidden_tensor), 1)\n",
        "        hidden = self.i2h(combined)\n",
        "        output = self.i2o(combined)\n",
        "        output = self.softmax(output)\n",
        "        return output, hidden\n",
        "    \n",
        "    def init_hidden(self):\n",
        "        return torch.zeros(1, self.hidden_size)"
      ]
    },
    {
      "cell_type": "code",
      "source": [
        "# Important: to continue it is needed to import the folder called data. \n",
        "# To do so in Google Colab zip the folder, upload it, and unzip it with\n",
        "# the command !unzip data.zip\n",
        "category_lines, all_categories = load_data()\n",
        "n_categories = len(all_categories)\n",
        "n_hidden = 128"
      ],
      "metadata": {
        "id": "YMaRQx9yhf26"
      },
      "execution_count": 10,
      "outputs": []
    },
    {
      "cell_type": "code",
      "source": [
        "rnn = RNN(N_LETTERS, n_hidden, n_categories)"
      ],
      "metadata": {
        "id": "1AmCS6ZBk9Ac"
      },
      "execution_count": 11,
      "outputs": []
    },
    {
      "cell_type": "code",
      "source": [
        "# one step\n",
        "input_tensor = letter_to_tensor('A')\n",
        "hidden_tensor = rnn.init_hidden()"
      ],
      "metadata": {
        "id": "B0nlYW9NkKYX"
      },
      "execution_count": 12,
      "outputs": []
    },
    {
      "cell_type": "code",
      "source": [
        "output, next_hidden = rnn(input_tensor, hidden_tensor)\n",
        "print(output.size())\n",
        "print(next_hidden.size())"
      ],
      "metadata": {
        "colab": {
          "base_uri": "https://localhost:8080/"
        },
        "id": "4D-iqdXOkOR3",
        "outputId": "ae9fbecb-7806-40d9-e4c1-fa8565d3fc33"
      },
      "execution_count": 13,
      "outputs": [
        {
          "output_type": "stream",
          "name": "stdout",
          "text": [
            "torch.Size([1, 18])\n",
            "torch.Size([1, 128])\n"
          ]
        }
      ]
    },
    {
      "cell_type": "code",
      "source": [
        "# whole sequence/name\n",
        "input_tensor = line_to_tensor('Albert')\n",
        "hidden_tensor = rnn.init_hidden()"
      ],
      "metadata": {
        "id": "tczKLqyrkQWZ"
      },
      "execution_count": 14,
      "outputs": []
    },
    {
      "cell_type": "code",
      "source": [
        "output, next_hidden = rnn(input_tensor[0], hidden_tensor)\n",
        "print(output.size())\n",
        "print(next_hidden.size())"
      ],
      "metadata": {
        "colab": {
          "base_uri": "https://localhost:8080/"
        },
        "id": "K-8KT5vLkScP",
        "outputId": "127aa236-838f-4db3-be37-023e1812132e"
      },
      "execution_count": 15,
      "outputs": [
        {
          "output_type": "stream",
          "name": "stdout",
          "text": [
            "torch.Size([1, 18])\n",
            "torch.Size([1, 128])\n"
          ]
        }
      ]
    },
    {
      "cell_type": "code",
      "source": [
        "def category_from_output(output):\n",
        "    category_idx = torch.argmax(output).item()\n",
        "    return all_categories[category_idx]\n",
        "\n",
        "print(category_from_output(output))\n",
        "\n",
        "criterion = nn.NLLLoss()\n",
        "learning_rate = 0.005\n",
        "optimizer = torch.optim.SGD(rnn.parameters(), lr=learning_rate)\n",
        "\n",
        "def train(line_tensor, category_tensor):\n",
        "    hidden = rnn.init_hidden()\n",
        "    \n",
        "    for i in range(line_tensor.size()[0]):\n",
        "        output, hidden = rnn(line_tensor[i], hidden)\n",
        "        \n",
        "    loss = criterion(output, category_tensor)\n",
        "    \n",
        "    optimizer.zero_grad()\n",
        "    loss.backward()\n",
        "    optimizer.step()\n",
        "    \n",
        "    return output, loss.item()"
      ],
      "metadata": {
        "colab": {
          "base_uri": "https://localhost:8080/"
        },
        "id": "9YFYCw4uiYUJ",
        "outputId": "6a99870c-7f1d-4bca-f8fb-b5a82030f4b1"
      },
      "execution_count": 16,
      "outputs": [
        {
          "output_type": "stream",
          "name": "stdout",
          "text": [
            "Polish\n"
          ]
        }
      ]
    },
    {
      "cell_type": "code",
      "source": [
        "current_loss = 0\n",
        "all_losses = []\n",
        "plot_steps, print_steps = 1000, 5000\n",
        "n_iters = 100000\n",
        "for i in range(n_iters):\n",
        "    category, line, category_tensor, line_tensor = random_training_example(category_lines, all_categories)\n",
        "    \n",
        "    output, loss = train(line_tensor, category_tensor)\n",
        "    current_loss += loss \n",
        "    \n",
        "    if (i+1) % plot_steps == 0:\n",
        "        all_losses.append(current_loss / plot_steps)\n",
        "        current_loss = 0\n",
        "        \n",
        "    if (i+1) % print_steps == 0:\n",
        "        guess = category_from_output(output)\n",
        "        correct = \"CORRECT\" if guess == category else f\"WRONG ({category})\"\n",
        "        print(f\"{i+1} {(i+1)/n_iters*100} {loss:.4f} {line} / {guess} {correct}\")\n",
        "        \n",
        "    \n",
        "plt.figure()\n",
        "plt.plot(all_losses)\n",
        "plt.show()"
      ],
      "metadata": {
        "colab": {
          "base_uri": "https://localhost:8080/",
          "height": 622
        },
        "id": "GJxb-7rYjHHe",
        "outputId": "7853df43-349a-4e4e-a03d-9a6e0baf7943"
      },
      "execution_count": 17,
      "outputs": [
        {
          "output_type": "stream",
          "name": "stdout",
          "text": [
            "5000 5.0 1.9696 Bagryansky / Russian CORRECT\n",
            "10000 10.0 1.2548 Rudawski / Polish CORRECT\n",
            "15000 15.0 2.4013 Silva / Czech WRONG (Portuguese)\n",
            "20000 20.0 1.4737 Song / Chinese WRONG (Korean)\n",
            "25000 25.0 0.6733 Dickson / Scottish CORRECT\n",
            "30000 30.0 2.4450 Longo / Portuguese WRONG (Italian)\n",
            "35000 35.0 1.5567 Charron / English WRONG (French)\n",
            "40000 40.0 0.5805 Duong / Vietnamese CORRECT\n",
            "45000 45.0 0.6188 Handal / Arabic CORRECT\n",
            "50000 50.0 0.3147 Abugov / Russian CORRECT\n",
            "55000 55.00000000000001 0.3878 Yao / Chinese CORRECT\n",
            "60000 60.0 2.8677 Nagel / Arabic WRONG (German)\n",
            "65000 65.0 4.3928 Names / Portuguese WRONG (Irish)\n",
            "70000 70.0 0.7894 Nozaki / Polish WRONG (Japanese)\n",
            "75000 75.0 0.5403 Sutherland / Scottish CORRECT\n",
            "80000 80.0 0.5435 Kolen / Dutch CORRECT\n",
            "85000 85.0 0.2843 Tomika / Japanese CORRECT\n",
            "90000 90.0 5.7241 Gerges / English WRONG (Arabic)\n",
            "95000 95.0 0.4368 Meeuwes / Dutch CORRECT\n",
            "100000 100.0 0.0889 Chikirev / Russian CORRECT\n"
          ]
        },
        {
          "output_type": "display_data",
          "data": {
            "text/plain": [
              "<Figure size 432x288 with 1 Axes>"
            ],
            "image/png": "[encoded data removed]"
          },
          "metadata": {
            "needs_background": "light"
          }
        }
      ]
    },
    {
      "cell_type": "code",
      "source": [
        "def predict(input_line):\n",
        "    print(f\"\\n> {input_line}\")\n",
        "    with torch.no_grad():\n",
        "        line_tensor = line_to_tensor(input_line)\n",
        "        \n",
        "        hidden = rnn.init_hidden()\n",
        "    \n",
        "        for i in range(line_tensor.size()[0]):\n",
        "            output, hidden = rnn(line_tensor[i], hidden)\n",
        "        \n",
        "        guess = category_from_output(output)\n",
        "        print(guess)\n",
        "\n",
        "\n",
        "while True:\n",
        "    sentence = input(\"Input:\")\n",
        "    if sentence == \"quit\":\n",
        "        break\n",
        "    \n",
        "    predict(sentence)"
      ],
      "metadata": {
        "colab": {
          "base_uri": "https://localhost:8080/"
        },
        "id": "jADOpWhOjTIw",
        "outputId": "4fcd9783-a625-4b84-d772-431a76339909"
      },
      "execution_count": 21,
      "outputs": [
        {
          "name": "stdout",
          "output_type": "stream",
          "text": [
            "Input:loona\n",
            "\n",
            "> loona\n",
            "Spanish\n",
            "Input:Loona\n",
            "\n",
            "> Loona\n",
            "Italian\n",
            "Input:Loona\n",
            "\n",
            "> Loona\n",
            "Italian\n",
            "Input:loona\n",
            "\n",
            "> loona\n",
            "Spanish\n",
            "Input:ioona\n",
            "\n",
            "> ioona\n",
            "Italian\n",
            "Input:Ioona\n",
            "\n",
            "> Ioona\n",
            "Japanese\n",
            "Input:quit\n"
          ]
        }
      ]
    }
  ]
}