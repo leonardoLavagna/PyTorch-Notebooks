{
  "nbformat": 4,
  "nbformat_minor": 0,
  "metadata": {
    "colab": {
      "name": "Notebook_3.ipynb",
      "provenance": [],
      "collapsed_sections": [],
      "authorship_tag": "ABX9TyNSgJkXu/QoLDyPir880v5r",
      "include_colab_link": true
    },
    "kernelspec": {
      "name": "python3",
      "display_name": "Python 3"
    },
    "language_info": {
      "name": "python"
    }
  },
  "cells": [
    {
      "cell_type": "markdown",
      "metadata": {
        "id": "view-in-github",
        "colab_type": "text"
      },
      "source": [
        "<a href=\"https://colab.research.google.com/github/leonardoLavagna/PyTorch-Notebooks/blob/main/Notebook_3.ipynb\" target=\"_parent\"><img src=\"https://colab.research.google.com/assets/colab-badge.svg\" alt=\"Open In Colab\"/></a>"
      ]
    },
    {
      "cell_type": "markdown",
      "source": [
        "# PyTorch Notebook 3\n",
        "In this Notebook we will familiarize with the standard PyTorch workflow, that is a standard deep learning pipeline. The standard PyTorch workflow can be summarized in the following steps:\n",
        "\n",
        "\n",
        "1.   Get the data (i.e. tensors);\n",
        "2.   Build or pick a model;\n",
        "3.   Fit the model to the data and make inference\n",
        "4.   Evaluate the model\n",
        "5.   Improve by experimentation\n",
        "6.   Save and reuse/adapt the trained model\n",
        "\n",
        "In the followin example of PyThorch workflow we will focus on the first three points, by trying to predict a simple straight line. The same three steps we will see here can be adapted, in principle, to solve any other deep learning problem."
      ],
      "metadata": {
        "id": "YDNJM5rimnMg"
      }
    },
    {
      "cell_type": "code",
      "execution_count": null,
      "metadata": {
        "id": "dnYo7idDkspe"
      },
      "outputs": [],
      "source": [
        "import torch\n",
        "from torch import nn"
      ]
    },
    {
      "cell_type": "code",
      "source": [
        "# Setup device agnostic code\n",
        "device = \"cuda\" if torch.cuda.is_available() else \"cpu\"\n",
        "print(f\"Using device: {device}\")"
      ],
      "metadata": {
        "colab": {
          "base_uri": "https://localhost:8080/"
        },
        "id": "9EnlOCoG1j0A",
        "outputId": "946a9f94-6865-4de1-cb4d-832d0e0157eb"
      },
      "execution_count": null,
      "outputs": [
        {
          "output_type": "stream",
          "name": "stdout",
          "text": [
            "Using device: cpu\n"
          ]
        }
      ]
    },
    {
      "cell_type": "markdown",
      "source": [
        "**Remark .** The module `nn` contains all the basic functionalities of neural networks, see https://pytorch.org/docs/stable/nn.html."
      ],
      "metadata": {
        "id": "NaZZmEFsn7JH"
      }
    },
    {
      "cell_type": "code",
      "source": [
        "import matplotlib.pyplot as plt"
      ],
      "metadata": {
        "id": "m2PQRLOcoFfR"
      },
      "execution_count": null,
      "outputs": []
    },
    {
      "cell_type": "markdown",
      "source": [
        "## Get the data\n",
        "We'll use linear regression to create the data with known parameters, and then we'll use PyTorch to see if we can build model to estimate these parameters using gradient descent."
      ],
      "metadata": {
        "id": "uQNu2POEolxM"
      }
    },
    {
      "cell_type": "code",
      "source": [
        "# Create known parameters\n",
        "weight = 0.6\n",
        "bias = 0.4\n",
        "\n",
        "# Create data\n",
        "start = 0\n",
        "end = 1\n",
        "step = 0.01\n",
        "X = torch.arange(start, end, step).unsqueeze(dim=1)\n",
        "y = weight * X + bias\n",
        "\n",
        "len(X), len(y)"
      ],
      "metadata": {
        "colab": {
          "base_uri": "https://localhost:8080/"
        },
        "id": "2DV4FK3wokDJ",
        "outputId": "68139018-755f-40a6-f1f5-79ef725102fc"
      },
      "execution_count": null,
      "outputs": [
        {
          "output_type": "execute_result",
          "data": {
            "text/plain": [
              "(100, 100)"
            ]
          },
          "metadata": {},
          "execution_count": 4
        }
      ]
    },
    {
      "cell_type": "markdown",
      "source": [
        "## Build or pick a model\n",
        "Now we're going to move towards building a model that can learn the relationship between X (features) and y (labels). Before we build a model we need to split it up. One of most important steps in a machine learning project is creating a training and test set (and when required, a validation set). Each split of the dataset serves a specific purpose:\n",
        "\n",
        "\n",
        "*   **Training set** the model learns from this data (~70% of the data);\n",
        "*   **Testing set**\tthe model gets evaluated on this data to test what it has learned (~30% of the data);\n",
        "*   **Validation set (optional)**\tthe model gets tuned on this data.\n",
        "\n",
        "PyTorch has four essential modules you can use to create almost any kind of neural network you can imagine. They are `torch.nn`, `torch.optim`, `torch.utils.data.Dataset` and `torch.utils.data.DataLoader`. For now, we'll focus on the first two."
      ],
      "metadata": {
        "id": "21MVmKnnpel4"
      }
    },
    {
      "cell_type": "code",
      "source": [
        "# Create train/test split\n",
        "train_split = int(0.7 * len(X)) \n",
        "X_train, y_train = X[:train_split], y[:train_split]\n",
        "X_test, y_test = X[train_split:], y[train_split:]\n",
        "\n",
        "len(X_train), len(y_train), len(X_test), len(y_test)"
      ],
      "metadata": {
        "colab": {
          "base_uri": "https://localhost:8080/"
        },
        "id": "Cxbqws_ApV-7",
        "outputId": "a5252ae1-cdf9-4f3a-bce4-9df3a09aeaf4"
      },
      "execution_count": null,
      "outputs": [
        {
          "output_type": "execute_result",
          "data": {
            "text/plain": [
              "(70, 70, 30, 30)"
            ]
          },
          "metadata": {},
          "execution_count": 5
        }
      ]
    },
    {
      "cell_type": "markdown",
      "source": [
        "The model we create is going to try and learn the relationship between `X_train` & `y_train` and then we will evaluate what it learns on `X_test` and `y_test`."
      ],
      "metadata": {
        "id": "ycQi5Wcbq9zd"
      }
    },
    {
      "cell_type": "code",
      "source": [
        "def plot_predictions(train_data=X_train, \n",
        "                     train_labels=y_train, \n",
        "                     test_data=X_test, \n",
        "                     test_labels=y_test, \n",
        "                     predictions=None):\n",
        "  \"\"\"\n",
        "  Plots training data, test data and compares predictions.\n",
        "  \"\"\"\n",
        "  plt.figure(figsize=(10, 7))\n",
        "\n",
        "  # Plot training data in blue\n",
        "  plt.scatter(train_data, train_labels, c=\"b\", s=4, label=\"Training data\")\n",
        "  \n",
        "  # Plot test data in green\n",
        "  plt.scatter(test_data, test_labels, c=\"g\", s=4, label=\"Testing data\")\n",
        "\n",
        "  if predictions is not None:\n",
        "    # Plot the predictions in red (predictions were made on the test data)\n",
        "    plt.scatter(test_data, predictions, c=\"r\", s=4, label=\"Predictions\")\n",
        "\n",
        "  # Show the legend\n",
        "  plt.legend(prop={\"size\": 14});"
      ],
      "metadata": {
        "id": "Tv-p7rOErE8S"
      },
      "execution_count": null,
      "outputs": []
    },
    {
      "cell_type": "code",
      "source": [
        "plot_predictions();"
      ],
      "metadata": {
        "colab": {
          "base_uri": "https://localhost:8080/",
          "height": 428
        },
        "id": "UlXm5J0rrWE3",
        "outputId": "b04e5ab6-c3b4-4721-eac7-8d3b15f15301"
      },
      "execution_count": null,
      "outputs": [
        {
          "output_type": "display_data",
          "data": {
            "text/plain": [
              "<Figure size 720x504 with 1 Axes>"
            ],
            "image/png": "[encoded data removed]"
          },
          "metadata": {
            "needs_background": "light"
          }
        }
      ]
    },
    {
      "cell_type": "markdown",
      "source": [
        "**Remark .** We'll be using Python classes to create bits and pieces for building neural networks. If you're unfamiliar with Python class notation, see https://realpython.com/python3-object-oriented-programming."
      ],
      "metadata": {
        "id": "j0OvcPVDsQAY"
      }
    },
    {
      "cell_type": "code",
      "source": [
        "# Create a Linear Regression model class\n",
        "# Note: almost everything in PyTorch is a nn.Module\n",
        "class LinearRegressionModel(nn.Module): \n",
        "    def __init__(self):\n",
        "        super().__init__() \n",
        "        # Start with random weights (this will get adjusted as the model learns)\n",
        "        self.weights = nn.Parameter(torch.randn(1,requires_grad=True,dtype=torch.float))\n",
        "\n",
        "        self.bias = nn.Parameter(torch.randn(1,requires_grad=True, dtype=torch.float ))\n",
        "\n",
        "    # Forward defines the computation in the model\n",
        "    def forward(self, x: torch.Tensor) -> torch.Tensor: # <- \"x\" is the input data (e.g. training/testing features)\n",
        "        return self.weights * x + self.bias # <- this is the linear regression formula (y = m*x + b)"
      ],
      "metadata": {
        "id": "bbXVf5t4rm3L"
      },
      "execution_count": null,
      "outputs": []
    },
    {
      "cell_type": "code",
      "source": [
        "# Set manual seed since nn.Parameter are randomly initialzied\n",
        "torch.manual_seed(42)\n",
        "\n",
        "# Create an instance of the model (this is a subclass of nn.Module that contains nn.Parameter(s))\n",
        "model = LinearRegressionModel()\n",
        "\n",
        "# Check the nn.Parameter(s) within the nn.Module subclass we created\n",
        "list(model.parameters())"
      ],
      "metadata": {
        "colab": {
          "base_uri": "https://localhost:8080/"
        },
        "id": "YKGne6kMsivE",
        "outputId": "a12719ee-726e-405b-a3d6-8d780a9b9c82"
      },
      "execution_count": null,
      "outputs": [
        {
          "output_type": "execute_result",
          "data": {
            "text/plain": [
              "[Parameter containing:\n",
              " tensor([0.3367], requires_grad=True), Parameter containing:\n",
              " tensor([0.1288], requires_grad=True)]"
            ]
          },
          "metadata": {},
          "execution_count": 9
        }
      ]
    },
    {
      "cell_type": "code",
      "source": [
        "# List named parameters \n",
        "model.state_dict()"
      ],
      "metadata": {
        "colab": {
          "base_uri": "https://localhost:8080/"
        },
        "id": "PhiWwDy2tQU6",
        "outputId": "0ff4c4d1-6cfd-47cd-b637-1be11a900d2a"
      },
      "execution_count": null,
      "outputs": [
        {
          "output_type": "execute_result",
          "data": {
            "text/plain": [
              "OrderedDict([('weights', tensor([0.3367])), ('bias', tensor([0.1288]))])"
            ]
          },
          "metadata": {},
          "execution_count": 10
        }
      ]
    },
    {
      "cell_type": "markdown",
      "source": [
        "## Fit the model to the data and make inference\n",
        "We start by fitting our model to the data"
      ],
      "metadata": {
        "id": "PO0vuHt0taok"
      }
    },
    {
      "cell_type": "code",
      "source": [
        "# Make predictions with model\n",
        "with torch.inference_mode(): \n",
        "    y_preds = model(X_test)"
      ],
      "metadata": {
        "id": "QDoHDeDbtRhH"
      },
      "execution_count": null,
      "outputs": []
    },
    {
      "cell_type": "code",
      "source": [
        "# Check the predictions\n",
        "print(f\"Number of testing samples: {len(X_test)}\") \n",
        "print(f\"Number of predictions made: {len(y_preds)}\")\n",
        "print(f\"Predicted values:\\n{y_preds}\")"
      ],
      "metadata": {
        "colab": {
          "base_uri": "https://localhost:8080/"
        },
        "id": "kS7yjWRptgNe",
        "outputId": "42989790-caa4-41b2-b6b0-da424b2da51a"
      },
      "execution_count": null,
      "outputs": [
        {
          "output_type": "stream",
          "name": "stdout",
          "text": [
            "Number of testing samples: 30\n",
            "Number of predictions made: 30\n",
            "Predicted values:\n",
            "tensor([[0.3645],\n",
            "        [0.3679],\n",
            "        [0.3712],\n",
            "        [0.3746],\n",
            "        [0.3780],\n",
            "        [0.3813],\n",
            "        [0.3847],\n",
            "        [0.3881],\n",
            "        [0.3914],\n",
            "        [0.3948],\n",
            "        [0.3982],\n",
            "        [0.4015],\n",
            "        [0.4049],\n",
            "        [0.4083],\n",
            "        [0.4116],\n",
            "        [0.4150],\n",
            "        [0.4184],\n",
            "        [0.4217],\n",
            "        [0.4251],\n",
            "        [0.4285],\n",
            "        [0.4318],\n",
            "        [0.4352],\n",
            "        [0.4386],\n",
            "        [0.4419],\n",
            "        [0.4453],\n",
            "        [0.4487],\n",
            "        [0.4520],\n",
            "        [0.4554],\n",
            "        [0.4588],\n",
            "        [0.4621]])\n"
          ]
        }
      ]
    },
    {
      "cell_type": "code",
      "source": [
        "plot_predictions(predictions=y_preds)"
      ],
      "metadata": {
        "colab": {
          "base_uri": "https://localhost:8080/",
          "height": 428
        },
        "id": "A8OPWDaItqWg",
        "outputId": "70876540-0f1f-45a3-bb94-376e731080f6"
      },
      "execution_count": null,
      "outputs": [
        {
          "output_type": "display_data",
          "data": {
            "text/plain": [
              "<Figure size 720x504 with 1 Axes>"
            ],
            "image/png": "[encoded data removed]"
          },
          "metadata": {
            "needs_background": "light"
          }
        }
      ]
    },
    {
      "cell_type": "markdown",
      "source": [
        "**Remark .** Those predictions look pretty bad... This make sense since our model is just using random parameter values to make predictions. It hasn't even looked at the blue dots to try to predict the green dots..."
      ],
      "metadata": {
        "id": "EH5n_lqvt3uy"
      }
    },
    {
      "cell_type": "markdown",
      "source": [
        "For our model to update its parameters on its own, we'll need to add a few more things to our recipe. That's  \n",
        "\n",
        "*   a **loss function**: Measures how wrong your models predictions (e.g. y_preds) are compared to the truth labels (e.g. y_test). Lower the better;\n",
        "*   as well as an **optimizer**: Tells your model how to update its internal parameters to best lower the loss."
      ],
      "metadata": {
        "id": "07bXME8JuJUj"
      }
    },
    {
      "cell_type": "code",
      "source": [
        "# Create the loss function\n",
        "loss_fn = nn.L1Loss() \n",
        "\n",
        "# Create the optimizer\n",
        "optimizer = torch.optim.SGD(params=model.parameters(),lr=0.01) "
      ],
      "metadata": {
        "id": "c3gWbt2Zty0G"
      },
      "execution_count": null,
      "outputs": []
    },
    {
      "cell_type": "markdown",
      "source": [
        "Now we've got a loss function and an optimizer, it's now time to create a **training loop** and **testing loop**. The training loop involves the model going through the training data and learning the relationships between the features and labels. The testing loop involves going through the testing data and evaluating how good the patterns are that the model learned on the training data (the model never see's the testing data during training). \n",
        "\n",
        "### Training loop\n",
        "*   **Forward pass**: The model goes through all of the training data once, performing its `forward()` function calculations.\n",
        "*   **Calculate the loss**: The model's outputs (predictions) are compared to the ground truth and evaluated to see how wrong they are.\t\n",
        "*   **Zero gradients**: The optimizers gradients are set to zero (they are accumulated by default) so they can be recalculated for the specific training step.\t\t\n",
        "*   **Perform backpropagation on the loss**: Computes the gradient of the loss with respect for every model parameter to be updated.\n",
        "*   **Update the optimizer (gradient descent)**: Update the parameters with  respect to the loss gradients in order to improve them.\n",
        "\n",
        "### Testing Loop\n",
        "*   **Forward pass**: The model goes through all of the training data once, performing its `forward()` function calculations.\n",
        "*   **Calculate the loss**: The model's outputs (predictions) are compared to the ground truth and evaluated to see how wrong they are.\t\n",
        "*   **Calulate evaluation metrics (optional)**: Alongisde the loss value you may want to calculate other evaluation metrics such as accuracy on the test set.\t"
      ],
      "metadata": {
        "id": "fPJVGztnvRTy"
      }
    },
    {
      "cell_type": "code",
      "source": [
        "torch.manual_seed(1234)\n",
        "\n",
        "# Set the number of epochs (how many times the model will pass over the training data)\n",
        "epochs = 100\n",
        "\n",
        "# Create empty loss lists to track values\n",
        "train_loss_values = []\n",
        "test_loss_values = []\n",
        "epoch_count = []\n",
        "\n",
        "for epoch in range(epochs):\n",
        "    #TRAINING\n",
        "\n",
        "    # Put model in training mode \n",
        "    model.train()\n",
        "\n",
        "    # Forward pass \n",
        "    y_pred = model(X_train)\n",
        "\n",
        "    #Calculate the loss \n",
        "    loss = loss_fn(y_pred, y_train)\n",
        "\n",
        "    # Zero gradients of the optimizer\n",
        "    optimizer.zero_grad()\n",
        "\n",
        "    # Backwards pass\n",
        "    loss.backward()\n",
        "\n",
        "    # Progress the optimizer\n",
        "    optimizer.step()\n",
        "\n",
        "    #TESTING\n",
        "\n",
        "    # Put the model in evaluation mode\n",
        "    model.eval()\n",
        "\n",
        "    with torch.inference_mode():\n",
        "      # Forward pass \n",
        "      test_pred = model(X_test)\n",
        "\n",
        "      # Caculate loss \n",
        "      # predictions come in torch.float datatype, so comparisons need to be  done with tensors of the same type \n",
        "      test_loss = loss_fn(test_pred, y_test.type(torch.float))  \n",
        "\n",
        "      # Print out what's happening\n",
        "      if epoch % 10 == 0:\n",
        "            epoch_count.append(epoch)\n",
        "            train_loss_values.append(loss.detach().numpy())\n",
        "            test_loss_values.append(test_loss.detach().numpy())\n",
        "            print(f\"Epoch: {epoch} | MAE Train Loss: {loss} | MAE Test Loss: {test_loss} \")"
      ],
      "metadata": {
        "colab": {
          "base_uri": "https://localhost:8080/"
        },
        "id": "BgaNwKt9x-Xe",
        "outputId": "d238fb82-3b84-4fd0-fd44-c203a355cbfe"
      },
      "execution_count": null,
      "outputs": [
        {
          "output_type": "stream",
          "name": "stdout",
          "text": [
            "Epoch: 0 | MAE Train Loss: 0.362032413482666 | MAE Test Loss: 0.4807719886302948 \n",
            "Epoch: 10 | MAE Train Loss: 0.2501298487186432 | MAE Test Loss: 0.3516193628311157 \n",
            "Epoch: 20 | MAE Train Loss: 0.13822737336158752 | MAE Test Loss: 0.22246691584587097 \n",
            "Epoch: 30 | MAE Train Loss: 0.036716021597385406 | MAE Test Loss: 0.10287977755069733 \n",
            "Epoch: 40 | MAE Train Loss: 0.023810159415006638 | MAE Test Loss: 0.06668094545602798 \n",
            "Epoch: 50 | MAE Train Loss: 0.021008959040045738 | MAE Test Loss: 0.05708857253193855 \n",
            "Epoch: 60 | MAE Train Loss: 0.01828880049288273 | MAE Test Loss: 0.049729641526937485 \n",
            "Epoch: 70 | MAE Train Loss: 0.015569031238555908 | MAE Test Loss: 0.04199790954589844 \n",
            "Epoch: 80 | MAE Train Loss: 0.012848825193941593 | MAE Test Loss: 0.034638721495866776 \n",
            "Epoch: 90 | MAE Train Loss: 0.010128621011972427 | MAE Test Loss: 0.02727953903377056 \n"
          ]
        }
      ]
    },
    {
      "cell_type": "code",
      "source": [
        "# Plot the loss curves\n",
        "plt.plot(epoch_count, train_loss_values, label=\"Train loss\")\n",
        "plt.plot(epoch_count, test_loss_values, label=\"Test loss\")\n",
        "plt.title(\"Training and test loss curves\")\n",
        "plt.ylabel(\"Loss\")\n",
        "plt.xlabel(\"Epochs\")\n",
        "plt.legend();"
      ],
      "metadata": {
        "colab": {
          "base_uri": "https://localhost:8080/",
          "height": 295
        },
        "id": "qDhe_NrAygAD",
        "outputId": "b045635f-6beb-4f3c-b66e-f252f8638b63"
      },
      "execution_count": null,
      "outputs": [
        {
          "output_type": "display_data",
          "data": {
            "text/plain": [
              "<Figure size 432x288 with 1 Axes>"
            ],
            "image/png": "[encoded data removed]"
          },
          "metadata": {
            "needs_background": "light"
          }
        }
      ]
    },
    {
      "cell_type": "code",
      "source": [
        "# Find our model's learned parameters\n",
        "print(\"The model learned the following values for weights and bias:\")\n",
        "print(model.state_dict())\n",
        "print(\"\\nAnd the original values for weights and bias are:\")\n",
        "print(f\"weights: {weight}, bias: {bias}\")"
      ],
      "metadata": {
        "colab": {
          "base_uri": "https://localhost:8080/"
        },
        "id": "aSUxxTb4ymkT",
        "outputId": "80e97640-1032-420e-fc95-d2303f193d62"
      },
      "execution_count": null,
      "outputs": [
        {
          "output_type": "stream",
          "name": "stdout",
          "text": [
            "The model learned the following values for weights and bias:\n",
            "OrderedDict([('weights', tensor([0.5578])), ('bias', tensor([0.4154]))])\n",
            "\n",
            "And the original values for weights and bias are:\n",
            "weights: 0.6, bias: 0.4\n"
          ]
        }
      ]
    },
    {
      "cell_type": "markdown",
      "source": [
        "Now we will make inference (predictions). We've already seen a glimpse of this in the training and testing code above, the steps to do it outside of the training/testing loop are similar."
      ],
      "metadata": {
        "id": "Rn3AYR70zeMd"
      }
    },
    {
      "cell_type": "code",
      "source": [
        "# Set the model in evaluation mode\n",
        "model.eval()\n",
        "\n",
        "# Setup the inference mode context manager\n",
        "with torch.inference_mode():\n",
        "  # Make sure the calculations are done with the model and data on the same device\n",
        "  # in our case, we haven't setup device-agnostic code yet so our data and model are\n",
        "  # on the CPU by default.\n",
        "  # model.to(device)\n",
        "  # X_test = X_test.to(device)\n",
        "  y_preds = model(X_test)\n",
        "\n",
        "print(y_preds)"
      ],
      "metadata": {
        "colab": {
          "base_uri": "https://localhost:8080/"
        },
        "id": "xKCzYZujyp3l",
        "outputId": "4ea5483d-ba08-493c-8ad1-b247771c85c9"
      },
      "execution_count": null,
      "outputs": [
        {
          "output_type": "stream",
          "name": "stdout",
          "text": [
            "tensor([[0.8058],\n",
            "        [0.8114],\n",
            "        [0.8170],\n",
            "        [0.8226],\n",
            "        [0.8281],\n",
            "        [0.8337],\n",
            "        [0.8393],\n",
            "        [0.8449],\n",
            "        [0.8505],\n",
            "        [0.8560],\n",
            "        [0.8616],\n",
            "        [0.8672],\n",
            "        [0.8728],\n",
            "        [0.8783],\n",
            "        [0.8839],\n",
            "        [0.8895],\n",
            "        [0.8951],\n",
            "        [0.9007],\n",
            "        [0.9062],\n",
            "        [0.9118],\n",
            "        [0.9174],\n",
            "        [0.9230],\n",
            "        [0.9286],\n",
            "        [0.9341],\n",
            "        [0.9397],\n",
            "        [0.9453],\n",
            "        [0.9509],\n",
            "        [0.9564],\n",
            "        [0.9620],\n",
            "        [0.9676]])\n"
          ]
        }
      ]
    },
    {
      "cell_type": "code",
      "source": [
        "plot_predictions(predictions=y_preds)\n"
      ],
      "metadata": {
        "colab": {
          "base_uri": "https://localhost:8080/",
          "height": 428
        },
        "id": "HKngJuNUzxx-",
        "outputId": "d7dfe59c-78b3-4974-8ba2-9a5f71c4d544"
      },
      "execution_count": null,
      "outputs": [
        {
          "output_type": "display_data",
          "data": {
            "text/plain": [
              "<Figure size 720x504 with 1 Axes>"
            ],
            "image/png": "[encoded data removed]"
          },
          "metadata": {
            "needs_background": "light"
          }
        }
      ]
    },
    {
      "cell_type": "code",
      "source": [
        ""
      ],
      "metadata": {
        "id": "kBsp0khTz2Pq"
      },
      "execution_count": null,
      "outputs": []
    },
    {
      "cell_type": "markdown",
      "source": [
        "## Saving and reusing a PyTorch model\n"
      ],
      "metadata": {
        "id": "xNHVi7w_0YVe"
      }
    },
    {
      "cell_type": "code",
      "source": [
        "from pathlib import Path\n",
        "\n",
        "# Create models directory \n",
        "MODEL_PATH = Path(\"models\")\n",
        "MODEL_PATH.mkdir(parents=True, exist_ok=True)\n",
        "\n",
        "# Create model save path \n",
        "MODEL_NAME = \"Model_in_Notebook_3.pth\"\n",
        "MODEL_SAVE_PATH = MODEL_PATH / MODEL_NAME\n",
        "\n",
        "# Save the model state dict \n",
        "print(f\"Saving model to: {MODEL_SAVE_PATH}\")\n",
        "torch.save(obj=model.state_dict(),f=MODEL_SAVE_PATH) "
      ],
      "metadata": {
        "colab": {
          "base_uri": "https://localhost:8080/"
        },
        "id": "o0-kyS1e0ueL",
        "outputId": "55b66c46-268f-42ca-e739-463fff528088"
      },
      "execution_count": null,
      "outputs": [
        {
          "output_type": "stream",
          "name": "stdout",
          "text": [
            "Saving model to: models/Model_in_Notebook_3.pth\n"
          ]
        }
      ]
    },
    {
      "cell_type": "code",
      "source": [
        "# Check the saved file path\n",
        "#!ls -l models/Model_in_Notebook_3.pth"
      ],
      "metadata": {
        "id": "cN9A4LVQ0vGI"
      },
      "execution_count": null,
      "outputs": []
    },
    {
      "cell_type": "code",
      "source": [
        "# Reuse the previously saved model\n",
        "# Instantiate a new instance of our model\n",
        "loaded_model_0 = LinearRegressionModel()\n",
        "\n",
        "# Load the state_dict of our saved model \n",
        "loaded_model_0.load_state_dict(torch.load(f=MODEL_SAVE_PATH))"
      ],
      "metadata": {
        "colab": {
          "base_uri": "https://localhost:8080/"
        },
        "id": "C6q3FpkX1BKa",
        "outputId": "fa62c3ab-528e-463b-c0d2-50afd7009d3a"
      },
      "execution_count": null,
      "outputs": [
        {
          "output_type": "execute_result",
          "data": {
            "text/plain": [
              "<All keys matched successfully>"
            ]
          },
          "metadata": {},
          "execution_count": 22
        }
      ]
    },
    {
      "cell_type": "code",
      "source": [
        "# Put the loaded model into evaluation mode\n",
        "loaded_model_0.eval()\n",
        "\n",
        "# Use the inference mode context manager to make predictions\n",
        "with torch.inference_mode():\n",
        "    loaded_model_preds = loaded_model_0(X_test)"
      ],
      "metadata": {
        "id": "3PAi_o4j1TFT"
      },
      "execution_count": null,
      "outputs": []
    },
    {
      "cell_type": "code",
      "source": [
        "# Compare previous model predictions with loaded model predictions \n",
        "y_preds == loaded_model_preds"
      ],
      "metadata": {
        "colab": {
          "base_uri": "https://localhost:8080/"
        },
        "id": "c3r1GNEN1U4Z",
        "outputId": "ed80d3e7-ea51-447a-ac0c-eb8f33e3b2d0"
      },
      "execution_count": null,
      "outputs": [
        {
          "output_type": "execute_result",
          "data": {
            "text/plain": [
              "tensor([[True],\n",
              "        [True],\n",
              "        [True],\n",
              "        [True],\n",
              "        [True],\n",
              "        [True],\n",
              "        [True],\n",
              "        [True],\n",
              "        [True],\n",
              "        [True],\n",
              "        [True],\n",
              "        [True],\n",
              "        [True],\n",
              "        [True],\n",
              "        [True],\n",
              "        [True],\n",
              "        [True],\n",
              "        [True],\n",
              "        [True],\n",
              "        [True],\n",
              "        [True],\n",
              "        [True],\n",
              "        [True],\n",
              "        [True],\n",
              "        [True],\n",
              "        [True],\n",
              "        [True],\n",
              "        [True],\n",
              "        [True],\n",
              "        [True]])"
            ]
          },
          "metadata": {},
          "execution_count": 24
        }
      ]
    },
    {
      "cell_type": "markdown",
      "source": [
        "## Exercises\n",
        "\n",
        "\n",
        "1.   Create a traight line dataset with `weight=0.1` and `baias=0.9` with at least 100 data points. Then split the data into 80% training and 20% testing, plot the training and testing data. Once you have the data, create a PyThorch model as described above and define a loss function (e.g. `nn.L1Loss()`) and an optimizer (e.g. `torch.optim.SGD()`). Write the training loop to perform appropriate training steps for 100 epochs. Make predictions with the trained model and save the results to file.\n",
        "\n",
        "\n"
      ],
      "metadata": {
        "id": "mEeRemXg16JK"
      }
    }
  ]
}