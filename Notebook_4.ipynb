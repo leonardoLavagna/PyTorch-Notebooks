{
  "cells": [
    {
      "cell_type": "markdown",
      "metadata": {
        "id": "view-in-github",
        "colab_type": "text"
      },
      "source": [
        "<a href=\"https://colab.research.google.com/github/leonardoLavagna/PyTorch-Notebooks/blob/main/Notebook_4.ipynb\" target=\"_parent\"><img src=\"https://colab.research.google.com/assets/colab-badge.svg\" alt=\"Open In Colab\"/></a>"
      ]
    },
    {
      "cell_type": "markdown",
      "id": "fd228912",
      "metadata": {
        "id": "fd228912"
      },
      "source": [
        "# Pytorch Notebook 4\n",
        "## Standard workflow and Logistic Regression\n",
        "In this notebook we will breafly replicate what we've seen in Notebook 3, with a logistic regression model using the breast cancer data from `Sikit Learn`. Recall that with "
      ]
    },
    {
      "cell_type": "code",
      "execution_count": null,
      "id": "bf3340bc",
      "metadata": {
        "id": "bf3340bc"
      },
      "outputs": [],
      "source": [
        "import torch\n",
        "import torch.nn as nn\n",
        "import numpy as np\n",
        "from sklearn import datasets\n",
        "import matplotlib.pyplot as plt\n",
        "\n",
        "from sklearn.preprocessing import StandardScaler\n",
        "from sklearn.model_selection import train_test_split"
      ]
    },
    {
      "cell_type": "code",
      "execution_count": null,
      "id": "2cd897d3",
      "metadata": {
        "id": "2cd897d3",
        "colab": {
          "base_uri": "https://localhost:8080/"
        },
        "outputId": "39b298e7-81b3-4626-9e0c-b77e8ac0a8a1"
      },
      "outputs": [
        {
          "output_type": "stream",
          "name": "stdout",
          "text": [
            "569 30\n"
          ]
        }
      ],
      "source": [
        "# Get the data\n",
        "bc = datasets.load_breast_cancer()\n",
        "X, y = bc.data, bc.target\n",
        "n_samples, n_features = X.shape\n",
        "print(n_samples, n_features)"
      ]
    },
    {
      "cell_type": "code",
      "execution_count": null,
      "id": "71245b34",
      "metadata": {
        "id": "71245b34"
      },
      "outputs": [],
      "source": [
        "# train-test split\n",
        "X_train, X_test, y_train, y_test = train_test_split(X,y,test_size=0.2, random_state=1234)"
      ]
    },
    {
      "cell_type": "code",
      "execution_count": null,
      "id": "b630ad7a",
      "metadata": {
        "id": "b630ad7a"
      },
      "outputs": [],
      "source": [
        "# scale the features (zero mean and unit variance)\n",
        "sc = StandardScaler()\n",
        "X_train = sc.fit_transform(X_train)\n",
        "X_test = sc.transform(X_test)"
      ]
    },
    {
      "cell_type": "code",
      "execution_count": null,
      "id": "b32d4610",
      "metadata": {
        "id": "b32d4610"
      },
      "outputs": [],
      "source": [
        "# tensorize\n",
        "X_train = torch.from_numpy(X_train.astype(np.float32))\n",
        "X_test = torch.from_numpy(X_test.astype(np.float32))\n",
        "y_train = torch.from_numpy(y_train.astype(np.float32))\n",
        "y_test = torch.from_numpy(y_test.astype(np.float32))"
      ]
    },
    {
      "cell_type": "code",
      "execution_count": null,
      "id": "d239c211",
      "metadata": {
        "id": "d239c211"
      },
      "outputs": [],
      "source": [
        "y_train = y_train.view(y_train.shape[0],1)\n",
        "y_test = y_test.view(y_test.shape[0],1)"
      ]
    },
    {
      "cell_type": "code",
      "execution_count": null,
      "id": "0cab932b",
      "metadata": {
        "id": "0cab932b"
      },
      "outputs": [],
      "source": [
        "# Logistic regression neural network\n",
        "# f = wx+b, sigmoid at the end\n",
        "class LogisticRegression(nn.Module):\n",
        "    \n",
        "    def __init__(self,n_input_features):\n",
        "        super(LogisticRegression,self).__init__()\n",
        "        self.linear = nn.Linear(n_input_features, 1)\n",
        "        \n",
        "    def forward(self,x):\n",
        "        y_predicted = torch.sigmoid(self.linear(x))\n",
        "        return y_predicted\n",
        "\n",
        "model = LogisticRegression(n_features)"
      ]
    },
    {
      "cell_type": "code",
      "execution_count": null,
      "id": "d67d3ff5",
      "metadata": {
        "id": "d67d3ff5"
      },
      "outputs": [],
      "source": [
        "# loss and optimizer\n",
        "criterion = nn.BCELoss()\n",
        "lr = 0.01\n",
        "optimizer = torch.optim.SGD(model.parameters(), lr = lr)"
      ]
    },
    {
      "cell_type": "code",
      "execution_count": null,
      "id": "a8d3c381",
      "metadata": {
        "id": "a8d3c381",
        "outputId": "0050f5ba-7326-4bd2-e475-f3fcaf8b41fa",
        "colab": {
          "base_uri": "https://localhost:8080/"
        }
      },
      "outputs": [
        {
          "output_type": "stream",
          "name": "stdout",
          "text": [
            "epoch = 10, loss = 0.7127429842948914\n",
            "epoch = 20, loss = 0.5516685843467712\n",
            "epoch = 30, loss = 0.45889756083488464\n",
            "epoch = 40, loss = 0.39972779154777527\n",
            "epoch = 50, loss = 0.3584655821323395\n",
            "epoch = 60, loss = 0.32778528332710266\n",
            "epoch = 70, loss = 0.3039025366306305\n",
            "epoch = 80, loss = 0.284667432308197\n",
            "epoch = 90, loss = 0.26876428723335266\n",
            "epoch = 100, loss = 0.25533995032310486\n"
          ]
        }
      ],
      "source": [
        "# fit the data to the model\n",
        "n_epochs = 100\n",
        "for epoch in range(n_epochs):\n",
        "    y_predicted = model(X_train)\n",
        "    loss = criterion(y_predicted,y_train)\n",
        "    \n",
        "    loss.backward()\n",
        "    \n",
        "    optimizer.step()\n",
        "    optimizer.zero_grad()\n",
        "    \n",
        "    if (epoch+1) % 10 == 0:\n",
        "        print(f\"epoch = {epoch+1}, loss = {loss.item()}\")\n",
        "    "
      ]
    },
    {
      "cell_type": "code",
      "execution_count": null,
      "id": "7d1a9e7a",
      "metadata": {
        "id": "7d1a9e7a",
        "outputId": "83196181-50ed-4b16-b8aa-361784b41b60",
        "colab": {
          "base_uri": "https://localhost:8080/"
        }
      },
      "outputs": [
        {
          "output_type": "stream",
          "name": "stdout",
          "text": [
            "accuracy = 0.8947368264198303\n"
          ]
        }
      ],
      "source": [
        "# make inference\n",
        "with torch.no_grad():\n",
        "    y_predicted = model(X_test)\n",
        "    y_predicted_classes = y_predicted.round()\n",
        "    \n",
        "    accuracy = y_predicted_classes.eq(y_test).sum() / float(y_test.shape[0])\n",
        "    print(f\"accuracy = {accuracy}\")\n",
        "    "
      ]
    }
  ],
  "metadata": {
    "kernelspec": {
      "display_name": "Python 3 (ipykernel)",
      "language": "python",
      "name": "python3"
    },
    "language_info": {
      "codemirror_mode": {
        "name": "ipython",
        "version": 3
      },
      "file_extension": ".py",
      "mimetype": "text/x-python",
      "name": "python",
      "nbconvert_exporter": "python",
      "pygments_lexer": "ipython3",
      "version": "3.8.8"
    },
    "colab": {
      "name": "Notebook_4.ipynb",
      "provenance": [],
      "include_colab_link": true
    }
  },
  "nbformat": 4,
  "nbformat_minor": 5
}